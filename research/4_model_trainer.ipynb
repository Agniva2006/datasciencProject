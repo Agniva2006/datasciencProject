{
 "cells": [
  {
   "cell_type": "code",
   "execution_count": 1,
   "id": "d6231505",
   "metadata": {},
   "outputs": [],
   "source": [
    "import os"
   ]
  },
  {
   "cell_type": "code",
   "execution_count": 2,
   "id": "27d0f1ac",
   "metadata": {},
   "outputs": [
    {
     "data": {
      "text/plain": [
       "'d:\\\\mlops\\\\datasciencProject\\\\research'"
      ]
     },
     "execution_count": 2,
     "metadata": {},
     "output_type": "execute_result"
    }
   ],
   "source": [
    "%pwd"
   ]
  },
  {
   "cell_type": "code",
   "execution_count": 3,
   "id": "5ca36c6d",
   "metadata": {},
   "outputs": [],
   "source": [
    "os.chdir(\"../\")"
   ]
  },
  {
   "cell_type": "code",
   "execution_count": 4,
   "id": "610c6cb5",
   "metadata": {},
   "outputs": [],
   "source": [
    "from dataclasses import dataclass\n",
    "from pathlib import Path"
   ]
  },
  {
   "cell_type": "code",
   "execution_count": 5,
   "id": "22707fe7",
   "metadata": {},
   "outputs": [],
   "source": [
    "@dataclass(frozen=True)\n",
    "class ModelTrainerConfig:\n",
    "   root_dir: Path\n",
    "   train_data_path:Path\n",
    "   test_data_path:Path\n",
    "   model_name: str\n",
    "   alpha: float\n",
    "   l1_ratio: float\n",
    "   target_column: str"
   ]
  },
  {
   "cell_type": "code",
   "execution_count": 6,
   "id": "f6c55efb",
   "metadata": {},
   "outputs": [],
   "source": [
    "from src.datasciencProject.constants import CONFIG_FILE_PATH, PARAMS_FILE_PATH,SCHEAMA_FILE_PATH\n",
    "from src.datasciencProject.utils.common import read_yaml,create_directories"
   ]
  },
  {
   "cell_type": "code",
   "execution_count": 7,
   "id": "451f47ba",
   "metadata": {},
   "outputs": [],
   "source": [
    "class ConfigurationManager:\n",
    "    def __init__(\n",
    "        self,\n",
    "        config_filepath = CONFIG_FILE_PATH,\n",
    "        params_filepath = PARAMS_FILE_PATH,\n",
    "        schema_filepath = SCHEAMA_FILE_PATH):\n",
    "\n",
    "        self.config = read_yaml(config_filepath)\n",
    "        self.params = read_yaml(params_filepath)\n",
    "        self.schema = read_yaml(schema_filepath)\n",
    "\n",
    "        create_directories([self.config.artifacts_root])\n",
    "\n",
    "    def get_model_trainer_config(self) -> ModelTrainerConfig:\n",
    "        config = self.config.model_trainer\n",
    "        params = self.params.ElasticNet\n",
    "        schema = self.schema.TARGET_COLUMN\n",
    "\n",
    "        create_directories([config.root_dir])\n",
    "\n",
    "        model_trainer_config = ModelTrainerConfig(\n",
    "            root_dir=config.root_dir,\n",
    "            train_data_path=config.train_data_path,\n",
    "            test_data_path=config.test_data_path,\n",
    "            model_name=config.model_name,\n",
    "            alpha=params.alpha,\n",
    "            l1_ratio=params.l1_ratio,\n",
    "            target_column=schema.name\n",
    "        )\n",
    "\n",
    "        return model_trainer_config"
   ]
  },
  {
   "cell_type": "code",
   "execution_count": 8,
   "id": "154c7a25",
   "metadata": {},
   "outputs": [
    {
     "name": "stdout",
     "output_type": "stream",
     "text": [
      "[2025-11-01 16:48:02,853 : numexpr.utils : INFO : Note: NumExpr detected 12 cores but \"NUMEXPR_MAX_THREADS\" not set, so enforcing safe limit of 8.]\n",
      "[2025-11-01 16:48:02,860 : numexpr.utils : INFO : NumExpr defaulting to 8 threads.]\n"
     ]
    }
   ],
   "source": [
    "import os\n",
    "from src.datasciencProject.utils import logger\n",
    "import pandas as pd\n"
   ]
  },
  {
   "cell_type": "code",
   "execution_count": 9,
   "id": "6a600aec",
   "metadata": {},
   "outputs": [],
   "source": [
    "from sklearn.linear_model import ElasticNet\n",
    "import joblib\n"
   ]
  },
  {
   "cell_type": "code",
   "execution_count": 10,
   "id": "45b3b7d6",
   "metadata": {},
   "outputs": [],
   "source": [
    "class ModelTrainer:\n",
    "    def __init__(self, config: ModelTrainerConfig):\n",
    "        self.config = config\n",
    "\n",
    "    def train(self):\n",
    "        train_data = pd.read_csv(self.config.train_data_path)\n",
    "        test_data = pd.read_csv(self.config.test_data_path)\n",
    "\n",
    "        train_x=train_data.drop(columns=[self.config.target_column],axis=1)\n",
    "        train_y=train_data[self.config.target_column]\n",
    "        test_x=test_data.drop(columns=[self.config.target_column],axis=1)\n",
    "        test_y=test_data[self.config.target_column]\n",
    "\n",
    "        lr=ElasticNet(alpha=self.config.alpha,\n",
    "                      l1_ratio=self.config.l1_ratio,random_state=42)\n",
    "        \n",
    "        lr.fit(train_x,train_y)\n",
    "\n",
    "\n",
    "        joblib.dump(lr,os.path.join(self.config.root_dir,self.config.model_name))\n",
    "        logger.info(f\"Model Trained and saved at {os.path.join(self.config.root_dir,self.config.model_name)}\")"
   ]
  },
  {
   "cell_type": "code",
   "execution_count": 11,
   "id": "fb50a975",
   "metadata": {},
   "outputs": [
    {
     "name": "stdout",
     "output_type": "stream",
     "text": [
      "[2025-11-01 16:48:05,574 : datasciencelogger : INFO : yaml file: config\\config.yaml loaded successfully]\n",
      "[2025-11-01 16:48:05,579 : datasciencelogger : INFO : yaml file: params.yaml loaded successfully]\n",
      "[2025-11-01 16:48:05,584 : datasciencelogger : INFO : yaml file: schema.yaml loaded successfully]\n",
      "[2025-11-01 16:48:05,586 : datasciencelogger : INFO : created directory at: artifacts]\n",
      "[2025-11-01 16:48:05,590 : datasciencelogger : INFO : created directory at: artifacts/model_trainer]\n",
      "[2025-11-01 16:48:05,723 : datasciencelogger : INFO : Model Trained and saved at artifacts/model_trainer\\model.joblib]\n"
     ]
    }
   ],
   "source": [
    "try:\n",
    "    config=ConfigurationManager()\n",
    "    model_trainer_config=config.get_model_trainer_config()\n",
    "    model_trainer=ModelTrainer(config=model_trainer_config)\n",
    "    model_trainer.train()\n",
    "except Exception as e:\n",
    "    raise e   "
   ]
  }
 ],
 "metadata": {
  "kernelspec": {
   "display_name": "base",
   "language": "python",
   "name": "python3"
  },
  "language_info": {
   "codemirror_mode": {
    "name": "ipython",
    "version": 3
   },
   "file_extension": ".py",
   "mimetype": "text/x-python",
   "name": "python",
   "nbconvert_exporter": "python",
   "pygments_lexer": "ipython3",
   "version": "3.12.7"
  }
 },
 "nbformat": 4,
 "nbformat_minor": 5
}
